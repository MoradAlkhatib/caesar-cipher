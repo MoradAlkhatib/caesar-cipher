{
 "cells": [
  {
   "cell_type": "markdown",
   "metadata": {},
   "source": [
    "# Create an encrypt function that takes in a plain text phrase and a numeric shift"
   ]
  },
  {
   "cell_type": "code",
   "execution_count": 3,
   "metadata": {},
   "outputs": [
    {
     "name": "stdout",
     "output_type": "stream",
     "text": [
      "bcd \n",
      "klm \n",
      "def \n",
      "fgh \n",
      "z \n",
      "v \n",
      "z \n"
     ]
    }
   ],
   "source": [
    "def encrypt(text,k):\n",
    "    \"\"\"\n",
    "    this function tack a text and key is make a encrypt text as shift ever word as k number\n",
    "    \"\"\"\n",
    "    # text = text.lower()\n",
    "    if k > 25 :\n",
    "        if k % 25 == 0 :\n",
    "            k = 25\n",
    "        else :\n",
    "            k = k - (25 *(k // 25))\n",
    "    origin_k = k\n",
    "    \n",
    "    new_array=[]\n",
    "    arr_text = text.split(' ')\n",
    "    for words in arr_text:\n",
    "        text_after_encrypt = ''\n",
    "        for litters in words:\n",
    "            if ord(litters) + k > 122 :\n",
    "                k = k - 26\n",
    "            text_after_encrypt += chr(ord(litters)+k)\n",
    "            k = origin_k\n",
    "        new_array.append(text_after_encrypt)\n",
    "        new_array.append(' ')\n",
    "    last_string = ''\n",
    "    last_string = last_string.join(new_array)\n",
    "    return str(last_string)\n",
    "\n",
    "print(encrypt(\"abc\",1))\n",
    "print(encrypt(\"abc\",10))\n",
    "print(encrypt(\"abc\",53))\n",
    "print(encrypt(\"abc\",5))\n",
    "print(encrypt(\"a\",50))\n",
    "print(encrypt(\"a\",1002221))\n",
    "print(encrypt(\"a\",25))\n",
    "# print(ord('a')-ord('z'))\n",
    "\n",
    "\n"
   ]
  },
  {
   "cell_type": "markdown",
   "metadata": {},
   "source": [
    "## Create a decrypt function that takes in encrypted text and numeric shift which will restore the encrypted text back to its original form when correct key is supplied."
   ]
  },
  {
   "cell_type": "code",
   "execution_count": 4,
   "metadata": {},
   "outputs": [
    {
     "name": "stdout",
     "output_type": "stream",
     "text": [
      "He l lo \n"
     ]
    }
   ],
   "source": [
    "def decrypt(text,k):\n",
    "    \"\"\"\n",
    "    this function tack a text and key  to decrypt encrypt function by key \n",
    "    \"\"\"\n",
    "    # text = text.lower()\n",
    "    if k > 25 :\n",
    "        if k % 25 == 0 :\n",
    "            k = 25\n",
    "        else :\n",
    "            k = k - (25 *(k // 25))\n",
    "    origin_k = k\n",
    "    \n",
    "    new_array=[]\n",
    "    arr_text = text.split(' ')\n",
    "    for words in arr_text:\n",
    "        text_after_encrypt = ''\n",
    "        for litters in words:\n",
    "            if ord(litters) - k < 97 :\n",
    "                k =  k - 26 \n",
    "            text_after_encrypt += chr(ord(litters)-k)\n",
    "            k = origin_k\n",
    "        new_array.append(text_after_encrypt)\n",
    "        new_array.append(' ')\n",
    "    last_string = ''\n",
    "    last_string = last_string.join(new_array)\n",
    "    return last_string\n",
    "\n",
    "print(decrypt(\"Gd k kn\",25))"
   ]
  },
  {
   "cell_type": "markdown",
   "metadata": {},
   "source": [
    "## create a crack function that will decode the cipher so that an encrypted message can be transformed into its original state WITHOUT access to the key."
   ]
  },
  {
   "cell_type": "code",
   "execution_count": 5,
   "metadata": {},
   "outputs": [],
   "source": [
    "import nltk\n",
    "import re\n",
    "\n",
    "nltk.download('words', quiet=True)\n",
    "nltk.download('names', quiet=True)\n",
    "\n",
    "from nltk.corpus import words, names\n",
    "\n",
    "word_list = words.words()\n",
    "name_list = names.words()\n",
    "\n"
   ]
  },
  {
   "cell_type": "code",
   "execution_count": 9,
   "metadata": {},
   "outputs": [
    {
     "name": "stdout",
     "output_type": "stream",
     "text": [
      "my name is morad \n",
      "None\n"
     ]
    }
   ],
   "source": [
    "def count_words(text):\n",
    "    \"\"\"\n",
    "     function tack text as an argument check about words if its an english word\n",
    "    \"\"\"\n",
    "    candidate_words = text.split()\n",
    "    count = 0\n",
    "    for i in candidate_words:\n",
    "        word = re.sub(r'[^A-Za-z]+','', i)\n",
    "        if word.lower() in word_list or word in name_list:\n",
    "            count += 1\n",
    "\n",
    "    return count\n",
    "\n",
    "def crack(encrypted):\n",
    "    \"\"\"\n",
    "    function is make decrypt without key\n",
    "    \"\"\"\n",
    "    for i in range (0,26):\n",
    "        text = decrypt(encrypted,i)\n",
    "        percentage = int(count_words(text) / len(encrypted.split()) * 100)\n",
    "        if percentage > 50:\n",
    "            return text \n",
    "\n",
    "\n",
    "print(crack(\"my name is morad\"))\n",
    "print(crack(\"jsj skhj asij saij\"))"
   ]
  },
  {
   "cell_type": "markdown",
   "metadata": {},
   "source": [
    "# Tests"
   ]
  },
  {
   "cell_type": "code",
   "execution_count": 7,
   "metadata": {},
   "outputs": [
    {
     "name": "stdout",
     "output_type": "stream",
     "text": [
      "z \n",
      "<class 'str'>\n",
      "---------\n",
      "z\n",
      "<class 'str'>\n"
     ]
    },
    {
     "ename": "AssertionError",
     "evalue": "",
     "output_type": "error",
     "traceback": [
      "\u001b[0;31m---------------------------------------------------------------------------\u001b[0m",
      "\u001b[0;31mAssertionError\u001b[0m                            Traceback (most recent call last)",
      "\u001b[0;32m/tmp/ipykernel_16560/1753945085.py\u001b[0m in \u001b[0;36m<module>\u001b[0;34m\u001b[0m\n\u001b[1;32m     22\u001b[0m     \u001b[0mprint\u001b[0m\u001b[0;34m(\u001b[0m\u001b[0;34m\"Success!!!\"\u001b[0m\u001b[0;34m)\u001b[0m\u001b[0;34m\u001b[0m\u001b[0;34m\u001b[0m\u001b[0m\n\u001b[1;32m     23\u001b[0m \u001b[0;34m\u001b[0m\u001b[0m\n\u001b[0;32m---> 24\u001b[0;31m \u001b[0mtest\u001b[0m\u001b[0;34m(\u001b[0m\u001b[0;34m)\u001b[0m\u001b[0;34m\u001b[0m\u001b[0;34m\u001b[0m\u001b[0m\n\u001b[0m",
      "\u001b[0;32m/tmp/ipykernel_16560/1753945085.py\u001b[0m in \u001b[0;36mtest\u001b[0;34m()\u001b[0m\n\u001b[1;32m     10\u001b[0m     \u001b[0mprint\u001b[0m\u001b[0;34m(\u001b[0m\u001b[0mexpected\u001b[0m\u001b[0;34m)\u001b[0m\u001b[0;34m\u001b[0m\u001b[0;34m\u001b[0m\u001b[0m\n\u001b[1;32m     11\u001b[0m     \u001b[0mprint\u001b[0m\u001b[0;34m(\u001b[0m\u001b[0mtype\u001b[0m\u001b[0;34m(\u001b[0m\u001b[0mexpected\u001b[0m\u001b[0;34m)\u001b[0m\u001b[0;34m)\u001b[0m\u001b[0;34m\u001b[0m\u001b[0;34m\u001b[0m\u001b[0m\n\u001b[0;32m---> 12\u001b[0;31m     \u001b[0;32massert\u001b[0m \u001b[0mactual\u001b[0m \u001b[0;34m==\u001b[0m \u001b[0mexpected\u001b[0m\u001b[0;34m\u001b[0m\u001b[0;34m\u001b[0m\u001b[0m\n\u001b[0m\u001b[1;32m     13\u001b[0m \u001b[0;34m\u001b[0m\u001b[0m\n\u001b[1;32m     14\u001b[0m \u001b[0;31m# test_decrypt:\u001b[0m\u001b[0;34m\u001b[0m\u001b[0;34m\u001b[0m\u001b[0;34m\u001b[0m\u001b[0m\n",
      "\u001b[0;31mAssertionError\u001b[0m: "
     ]
    }
   ],
   "source": [
    "def assert_equal(actual,expected):\n",
    "    assert actual == expected, f\"Expected {expected} but got {actual}\"\n",
    "def test():\n",
    "    # test_encrypt :\n",
    "    expected = 'z'\n",
    "    actual = str(encrypt('a', 25))\n",
    "    print(actual)\n",
    "    print(type(actual))\n",
    "    print(\"---------\")\n",
    "    print(expected)\n",
    "    print(type(expected))\n",
    "    assert actual == expected\n",
    "\n",
    "# test_decrypt:\n",
    "    expected = 'My name is Murad Alkhatib'\n",
    "    actual = decrypt('Wi xkwo sc Webkn Kvurkdsl', 10)\n",
    "    assert actual == expected \n",
    "\n",
    "#test_crack:\n",
    "    assert crack('Wi xkwo sc Webkn Kvurkdsl') == 'My name is Murad Alkhatib'\n",
    "\n",
    "    print(\"Success!!!\")\n",
    "\n",
    "test()"
   ]
  }
 ],
 "metadata": {
  "interpreter": {
   "hash": "8ddd8ba8347cefda1b03614f7617662b0be424ebd20ab796cdc1fcd4d482e5fc"
  },
  "kernelspec": {
   "display_name": "Python 3.9.5 64-bit ('.venv': poetry)",
   "name": "python3"
  },
  "language_info": {
   "codemirror_mode": {
    "name": "ipython",
    "version": 3
   },
   "file_extension": ".py",
   "mimetype": "text/x-python",
   "name": "python",
   "nbconvert_exporter": "python",
   "pygments_lexer": "ipython3",
   "version": "3.9.5"
  },
  "orig_nbformat": 4
 },
 "nbformat": 4,
 "nbformat_minor": 2
}
